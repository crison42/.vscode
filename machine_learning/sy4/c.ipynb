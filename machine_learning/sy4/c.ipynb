{
 "cells": [
  {
   "cell_type": "code",
   "execution_count": 1,
   "metadata": {},
   "outputs": [
    {
     "name": "stdout",
     "output_type": "stream",
     "text": [
      "准确性: 0.9\n"
     ]
    }
   ],
   "source": [
    "import numpy as np\n",
    "from sklearn import datasets\n",
    "from sklearn.model_selection import train_test_split\n",
    "from sklearn.svm import SVC\n",
    "\n",
    "# 加载数据集\n",
    "iris = datasets.load_iris()\n",
    "X = iris.data[:, :2]  # 选择前两个特征\n",
    "y = iris.target\n",
    "\n",
    "# 将数据集划分为训练集和测试集\n",
    "X_train, X_test, y_train, y_test = train_test_split(X, y, test_size=0.2, random_state=42)\n",
    "\n",
    "# 创建支持向量机对象\n",
    "svc = SVC(kernel='linear', C=1)\n",
    "\n",
    "# 训练模型\n",
    "svc.fit(X_train, y_train)\n",
    "\n",
    "# 进行预测\n",
    "y_pred = svc.predict(X_test)\n",
    "\n",
    "# 计算准确率\n",
    "accuracy = svc.score(X_test, y_test)\n",
    "\n",
    "print(\"准确性:\", accuracy)"
   ]
  }
 ],
 "metadata": {
  "kernelspec": {
   "display_name": "base",
   "language": "python",
   "name": "python3"
  },
  "language_info": {
   "codemirror_mode": {
    "name": "ipython",
    "version": 3
   },
   "file_extension": ".py",
   "mimetype": "text/x-python",
   "name": "python",
   "nbconvert_exporter": "python",
   "pygments_lexer": "ipython3",
   "version": "3.11.7"
  }
 },
 "nbformat": 4,
 "nbformat_minor": 2
}
