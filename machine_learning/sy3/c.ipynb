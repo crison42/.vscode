{
 "cells": [
  {
   "cell_type": "code",
   "execution_count": 1,
   "metadata": {},
   "outputs": [
    {
     "name": "stdout",
     "output_type": "stream",
     "text": [
      "最佳决策树参数: {'max_depth': 3}\n",
      "最佳随机森林参数: {'max_depth': 15, 'n_estimators': 50}\n",
      "决策树模型评估报告:\n",
      "              precision    recall  f1-score   support\n",
      "\n",
      "           0       0.80      0.83      0.81        29\n",
      "           1       0.84      0.81      0.83        32\n",
      "\n",
      "    accuracy                           0.82        61\n",
      "   macro avg       0.82      0.82      0.82        61\n",
      "weighted avg       0.82      0.82      0.82        61\n",
      "\n",
      "随机森林模型评估报告:\n",
      "              precision    recall  f1-score   support\n",
      "\n",
      "           0       0.81      0.86      0.83        29\n",
      "           1       0.87      0.81      0.84        32\n",
      "\n",
      "    accuracy                           0.84        61\n",
      "   macro avg       0.84      0.84      0.84        61\n",
      "weighted avg       0.84      0.84      0.84        61\n",
      "\n"
     ]
    }
   ],
   "source": [
    "# 导入必要的库\n",
    "import pandas as pd\n",
    "from sklearn.model_selection import train_test_split, GridSearchCV\n",
    "from sklearn.tree import DecisionTreeClassifier\n",
    "from sklearn.ensemble import RandomForestClassifier\n",
    "from sklearn.metrics import classification_report\n",
    "\n",
    "# 加载数据集\n",
    "data = pd.read_csv('./heart.csv')\n",
    "\n",
    "# 划分特征和标签\n",
    "X = data.drop('target', axis=1)\n",
    "y = data['target']\n",
    "\n",
    "# 划分训练集和测试集\n",
    "X_train, X_test, y_train, y_test = train_test_split(X, y, test_size=0.2, random_state=42)\n",
    "\n",
    "# 决策树算法\n",
    "dt_classifier = DecisionTreeClassifier()\n",
    "dt_param_grid = {'max_depth': [3, 5, 7, 9]}\n",
    "dt_grid_search = GridSearchCV(dt_classifier, dt_param_grid, cv=5)\n",
    "dt_grid_search.fit(X_train, y_train)\n",
    "\n",
    "# 输出最佳参数\n",
    "print(\"最佳决策树参数:\", dt_grid_search.best_params_)\n",
    "\n",
    "# 随机森林算法\n",
    "rf_classifier = RandomForestClassifier()\n",
    "rf_param_grid = {'n_estimators': [50, 100, 150], 'max_depth': [5, 10, 15]}\n",
    "rf_grid_search = GridSearchCV(rf_classifier, rf_param_grid, cv=5)\n",
    "rf_grid_search.fit(X_train, y_train)\n",
    "\n",
    "# 输出最佳参数\n",
    "print(\"最佳随机森林参数:\", rf_grid_search.best_params_)\n",
    "\n",
    "# 评估模型\n",
    "dt_best_model = dt_grid_search.best_estimator_\n",
    "rf_best_model = rf_grid_search.best_estimator_\n",
    "\n",
    "dt_predictions = dt_best_model.predict(X_test)\n",
    "rf_predictions = rf_best_model.predict(X_test)\n",
    "\n",
    "print(\"决策树模型评估报告:\")\n",
    "print(classification_report(y_test, dt_predictions))\n",
    "\n",
    "print(\"随机森林模型评估报告:\")\n",
    "print(classification_report(y_test, rf_predictions))\n"
   ]
  }
 ],
 "metadata": {
  "kernelspec": {
   "display_name": "base",
   "language": "python",
   "name": "python3"
  },
  "language_info": {
   "codemirror_mode": {
    "name": "ipython",
    "version": 3
   },
   "file_extension": ".py",
   "mimetype": "text/x-python",
   "name": "python",
   "nbconvert_exporter": "python",
   "pygments_lexer": "ipython3",
   "version": "3.11.7"
  }
 },
 "nbformat": 4,
 "nbformat_minor": 2
}
